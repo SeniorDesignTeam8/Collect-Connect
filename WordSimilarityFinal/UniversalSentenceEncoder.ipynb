{
 "cells": [
  {
   "cell_type": "code",
   "execution_count": 34,
   "metadata": {
    "collapsed": true,
    "pycharm": {
     "is_executing": false
    }
   },
   "outputs": [
    {
     "name": "stdout",
     "text": [
      "Message: hello\nEmbedding size: 512\nEmbedding: [-0.025545170530676842, 0.0069054230116307735, -0.00611842842772603, ...]\n\nMessage: Cat\nEmbedding size: 512\nEmbedding: [0.03282910957932472, -0.0044448841363191605, -0.027337146922945976, ...]\n\nMessage: Dog\nEmbedding size: 512\nEmbedding: [-0.0027078401762992144, -0.01630859449505806, -0.03306994214653969, ...]\n\nMessage: Monkey\nEmbedding size: 512\nEmbedding: [-0.004093680065125227, -0.027288058772683144, 0.0006246884004212916, ...]\n\nMessage: Spoon\nEmbedding size: 512\nEmbedding: [0.027300933375954628, 0.06714016199111938, -0.018253721296787262, ...]\n\nMessage: Fork\nEmbedding size: 512\nEmbedding: [-0.02027607150375843, 0.045165497809648514, -0.02174900658428669, ...]\n\n",
      "Message: Wall\nEmbedding size: 512\nEmbedding: [0.026715412735939026, -0.01398574747145176, 0.028898146003484726, ...]\n\nMessage: Tiger\nEmbedding size: 512\nEmbedding: [0.05441543459892273, -0.04441474378108978, -0.022796936333179474, ...]\n\nMessage: Hammer\nEmbedding size: 512\nEmbedding: [0.011666336096823215, 0.054646413773298264, 0.0033674014266580343, ...]\n\nMessage: Mouse\nEmbedding size: 512\nEmbedding: [0.02404855191707611, 0.03636794537305832, -0.0483643040060997, ...]\n\nMessage: Shirt\nEmbedding size: 512\nEmbedding: [-0.04081213101744652, 0.025159446522593498, -0.018727771937847137, ...]\n\n['-0.025545170530676842, 0.0069054230116307735, -0.00611842842772603', '0.03282910957932472, -0.0044448841363191605, -0.027337146922945976', '-0.0027078401762992144, -0.01630859449505806, -0.03306994214653969', '-0.004093680065125227, -0.027288058772683144, 0.0006246884004212916', '0.027300933375954628, 0.06714016199111938, -0.018253721296787262', '-0.02027607150375843, 0.045165497809648514, -0.02174900658428669', '0.026715412735939026, -0.01398574747145176, 0.028898146003484726', '0.05441543459892273, -0.04441474378108978, -0.022796936333179474', '0.011666336096823215, 0.054646413773298264, 0.0033674014266580343', '0.02404855191707611, 0.03636794537305832, -0.0483643040060997', '-0.04081213101744652, 0.025159446522593498, -0.018727771937847137']\n"
     ],
     "output_type": "stream"
    }
   ],
   "source": [
    "import tensorflow as tf\n",
    "import tensorflow_hub as hub\n",
    "import matplotlib.pyplot as plt\n",
    "import numpy as np\n",
    "import os\n",
    "import pandas as pd\n",
    "import re\n",
    "import seaborn as sns\n",
    "import math\n",
    "import sys\n",
    "module_url = \"https://tfhub.dev/google/universal-sentence-encoder/2\" #@param [\"https://tfhub.dev/google/universal-sentence-encoder/2\", \"https://tfhub.dev/google/universal-sentence-encoder-large/3\"]\n",
    "\n",
    "# Import the Universal Sentence Encoder's TF Hub module\n",
    "embed = hub.Module(module_url)\n",
    "\n",
    "\n",
    "# Compute a representation for each message, showing various lengths supported.\n",
    "List1=sys.argv[1]\n",
    "List2=sys.argv[2]\n",
    "List1=[\"hello\",\"Cat\",\"Dog\",\"Monkey\",\"Spoon\",\"Fork\"]\n",
    "List2=[\"Wall\",\"Tiger\",\"Hammer\",\"Mouse\",\"Shirt\"]\n",
    "\n",
    "Embeddings=[]\n",
    "messages=List1\n",
    "\n",
    "# Reduce logging output.\n",
    "tf.logging.set_verbosity(tf.logging.ERROR)\n",
    "\n",
    "for y in range(2):\n",
    "    if y==1:\n",
    "        messages=List2\n",
    "    \n",
    "    with tf.Session() as session:\n",
    "      session.run([tf.global_variables_initializer(), tf.tables_initializer()])\n",
    "      message_embeddings = session.run(embed(messages))\n",
    "    \n",
    "      for i, message_embedding in enumerate(np.array(message_embeddings).tolist()):\n",
    "        print(\"Message: {}\".format(messages[i]))\n",
    "        print(\"Embedding size: {}\".format(len(message_embedding)))\n",
    "        message_embedding_snippet = \", \".join(\n",
    "            (str(x) for x in message_embedding[:3]))\n",
    "        print(\"Embedding: [{}, ...]\\n\".format(message_embedding_snippet))\n",
    "        temp=message_embedding_snippet\n",
    "        Embeddings.append(temp)\n",
    "print(Embeddings)\n",
    "        "
   ]
  },
  {
   "cell_type": "code",
   "execution_count": 37,
   "outputs": [
    {
     "name": "stdout",
     "text": [
      "[-0.025545170530676842, 0.0069054230116307735, -0.00611842842772603]\n[0.026715412735939026, -0.01398574747145176, 0.028898146003484726]\n\n\nDistance between hello and Wall is 4.7691690987938005\n[-0.025545170530676842, 0.0069054230116307735, -0.00611842842772603]\n[0.05441543459892273, -0.04441474378108978, -0.022796936333179474]\n\n\nDistance between hello and Tiger is 4.770144601939017\n[-0.025545170530676842, 0.0069054230116307735, -0.00611842842772603]\n[0.011666336096823215, 0.054646413773298264, 0.0033674014266580343]\n\n\nDistance between hello and Hammer is 4.77053806218967\n[-0.025545170530676842, 0.0069054230116307735, -0.00611842842772603]\n[0.02404855191707611, 0.03636794537305832, -0.0483643040060997]\n\n\nDistance between hello and Mouse is 4.771073851276447\n[-0.025545170530676842, 0.0069054230116307735, -0.00611842842772603]\n[-0.04081213101744652, 0.025159446522593498, -0.018727771937847137]\n\n\nDistance between hello and Shirt is 4.771149859240902\n[0.03282910957932472, -0.0044448841363191605, -0.027337146922945976]\n[0.026715412735939026, -0.01398574747145176, 0.028898146003484726]\n\n\nDistance between Cat and Wall is 4.771494712652133\n[0.03282910957932472, -0.0044448841363191605, -0.027337146922945976]\n[0.05441543459892273, -0.04441474378108978, -0.022796936333179474]\n\n\nDistance between Cat and Tiger is 4.771713105949198\n[0.03282910957932472, -0.0044448841363191605, -0.027337146922945976]\n[0.011666336096823215, 0.054646413773298264, 0.0033674014266580343]\n\n\nDistance between Cat and Hammer is 4.7722246782026945\n[0.03282910957932472, -0.0044448841363191605, -0.027337146922945976]\n[0.02404855191707611, 0.03636794537305832, -0.0483643040060997]\n\n\nDistance between Cat and Mouse is 4.772453593889335\n[0.03282910957932472, -0.0044448841363191605, -0.027337146922945976]\n[-0.04081213101744652, 0.025159446522593498, -0.018727771937847137]\n\n\nDistance between Cat and Shirt is 4.7731212928099005\n[-0.0027078401762992144, -0.01630859449505806, -0.03306994214653969]\n[0.026715412735939026, -0.01398574747145176, 0.028898146003484726]\n\n\nDistance between Dog and Wall is 4.773614777425432\n[-0.0027078401762992144, -0.01630859449505806, -0.03306994214653969]\n[0.05441543459892273, -0.04441474378108978, -0.022796936333179474]\n\n\nDistance between Dog and Tiger is 4.7740503350982415\n[-0.0027078401762992144, -0.01630859449505806, -0.03306994214653969]\n[0.011666336096823215, 0.054646413773298264, 0.0033674014266580343]\n\n\nDistance between Dog and Hammer is 4.774738266355571\n[-0.0027078401762992144, -0.01630859449505806, -0.03306994214653969]\n[0.02404855191707611, 0.03636794537305832, -0.0483643040060997]\n\n\nDistance between Dog and Mouse is 4.7751282864521265\n[-0.0027078401762992144, -0.01630859449505806, -0.03306994214653969]\n[-0.04081213101744652, 0.025159446522593498, -0.018727771937847137]\n\n\nDistance between Dog and Shirt is 4.775481900848108\n[-0.004093680065125227, -0.027288058772683144, 0.0006246884004212916]\n[0.026715412735939026, -0.01398574747145176, 0.028898146003484726]\n\n\nDistance between Monkey and Wall is 4.775683503480718\n[-0.004093680065125227, -0.027288058772683144, 0.0006246884004212916]\n[0.05441543459892273, -0.04441474378108978, -0.022796936333179474]\n\n\nDistance between Monkey and Tiger is 4.776130037777571\n[-0.004093680065125227, -0.027288058772683144, 0.0006246884004212916]\n[0.011666336096823215, 0.054646413773298264, 0.0033674014266580343]\n\n\nDistance between Monkey and Hammer is 4.776859564204995\n[-0.004093680065125227, -0.027288058772683144, 0.0006246884004212916]\n[0.02404855191707611, 0.03636794537305832, -0.0483643040060997]\n\n\nDistance between Monkey and Mouse is 4.7776177420968375\n[-0.004093680065125227, -0.027288058772683144, 0.0006246884004212916]\n[-0.04081213101744652, 0.025159446522593498, -0.018727771937847137]\n\n\nDistance between Monkey and Shirt is 4.778085892150921\n[0.027300933375954628, 0.06714016199111938, -0.018253721296787262]\n[0.026715412735939026, -0.01398574747145176, 0.028898146003484726]\n\n\nDistance between Spoon and Wall is 4.779007203110507\n[0.027300933375954628, 0.06714016199111938, -0.018253721296787262]\n[0.05441543459892273, -0.04441474378108978, -0.022796936333179474]\n\n\nDistance between Spoon and Tiger is 4.780388078531218\n[0.027300933375954628, 0.06714016199111938, -0.018253721296787262]\n[0.011666336096823215, 0.054646413773298264, 0.0033674014266580343]\n\n\nDistance between Spoon and Hammer is 4.780478866043425\n[0.027300933375954628, 0.06714016199111938, -0.018253721296787262]\n[0.02404855191707611, 0.03636794537305832, -0.0483643040060997]\n\n\nDistance between Spoon and Mouse is 4.780673837774301\n[0.027300933375954628, 0.06714016199111938, -0.018253721296787262]\n[-0.04081213101744652, 0.025159446522593498, -0.018727771937847137]\n\n\nDistance between Spoon and Shirt is 4.781343361223494\n[-0.02027607150375843, 0.045165497809648514, -0.02174900658428669]\n[0.026715412735939026, -0.01398574747145176, 0.028898146003484726]\n\n\nDistance between Fork and Wall is 4.78220833312295\n[-0.02027607150375843, 0.045165497809648514, -0.02174900658428669]\n[0.05441543459892273, -0.04441474378108978, -0.022796936333179474]\n\n\nDistance between Fork and Tiger is 4.783630533424868\n[-0.02027607150375843, 0.045165497809648514, -0.02174900658428669]\n[0.011666336096823215, 0.054646413773298264, 0.0033674014266580343]\n\n\nDistance between Fork and Hammer is 4.78381250880894\n[-0.02027607150375843, 0.045165497809648514, -0.02174900658428669]\n[0.02404855191707611, 0.03636794537305832, -0.0483643040060997]\n\n\nDistance between Fork and Mouse is 4.784099974150207\n[-0.02027607150375843, 0.045165497809648514, -0.02174900658428669]\n[-0.04081213101744652, 0.025159446522593498, -0.018727771937847137]\n\n\nDistance between Fork and Shirt is 4.784186833972023\n"
     ],
     "output_type": "stream"
    },
    {
     "data": {
      "text/plain": "          0 1 2 3 4\n0   hello          \n1     Cat          \n2     Dog          \n3  Monkey          \n4   Spoon          \n5    Fork          ",
      "text/html": "<div>\n<style scoped>\n    .dataframe tbody tr th:only-of-type {\n        vertical-align: middle;\n    }\n\n    .dataframe tbody tr th {\n        vertical-align: top;\n    }\n\n    .dataframe thead th {\n        text-align: right;\n    }\n</style>\n<table border=\"1\" class=\"dataframe\">\n  <thead>\n    <tr style=\"text-align: right;\">\n      <th></th>\n      <th></th>\n      <th>0</th>\n      <th>1</th>\n      <th>2</th>\n      <th>3</th>\n      <th>4</th>\n    </tr>\n  </thead>\n  <tbody>\n    <tr>\n      <th>0</th>\n      <td>hello</td>\n      <td></td>\n      <td></td>\n      <td></td>\n      <td></td>\n      <td></td>\n    </tr>\n    <tr>\n      <th>1</th>\n      <td>Cat</td>\n      <td></td>\n      <td></td>\n      <td></td>\n      <td></td>\n      <td></td>\n    </tr>\n    <tr>\n      <th>2</th>\n      <td>Dog</td>\n      <td></td>\n      <td></td>\n      <td></td>\n      <td></td>\n      <td></td>\n    </tr>\n    <tr>\n      <th>3</th>\n      <td>Monkey</td>\n      <td></td>\n      <td></td>\n      <td></td>\n      <td></td>\n      <td></td>\n    </tr>\n    <tr>\n      <th>4</th>\n      <td>Spoon</td>\n      <td></td>\n      <td></td>\n      <td></td>\n      <td></td>\n      <td></td>\n    </tr>\n    <tr>\n      <th>5</th>\n      <td>Fork</td>\n      <td></td>\n      <td></td>\n      <td></td>\n      <td></td>\n      <td></td>\n    </tr>\n  </tbody>\n</table>\n</div>"
     },
     "metadata": {},
     "output_type": "execute_result",
     "execution_count": 37
    }
   ],
   "source": [
    "list1Embedding=[]\n",
    "list2Embedding=[]\n",
    "i=1;\n",
    "for x in Embeddings:\n",
    "    temp=x.split(\",\")\n",
    "    for f in range(len(temp)):\n",
    "        temp[f]=float(temp[f])\n",
    "    \n",
    "    if(i<=len(List1)):\n",
    "        list1Embedding.append(temp)\n",
    "    else:\n",
    "        list2Embedding.append(temp)\n",
    "    i+=1\n",
    "\n",
    "for x in range(len(list1Embedding)):\n",
    "    for y in range(len(list2Embedding)):\n",
    "        print(list1Embedding[x])\n",
    "        print(list2Embedding[y])\n",
    "        print(\"\\n\")\n",
    "        for f in range(len(list1Embedding[x])):\n",
    "            sum+=((list1Embedding[x][f]-list2Embedding[y][f])**2)\n",
    "        #distance = math.sqrt(sum([(a - b) ** 2 for a, b in zip(x, y)]))\n",
    "        distance=math.sqrt(sum)\n",
    "        print(\"Distance between \"+List1[x]+\" and \"+List2[y]+\" is \"+str(distance))\n",
    "        \n",
    "        \n",
    "\n",
    "\n",
    "\n",
    "\n",
    "d = {'': List1}\n",
    "df = pd.DataFrame(data=d)\n",
    "i=0;\n",
    "for x in range(len(List2)):\n",
    "    df[str(x)]=\"\"\n",
    "df\n",
    "#print(df)\n",
    "\n",
    "#for i in ModifiedEmbedding:\n",
    "    #for j in i:\n",
    "      #  df.set_value('C', 'x', 10)\n",
    "    #print(sum)\n",
    "#pd.DataFrame(np.outer(df, df), df.index, df.index)\n",
    "#print(ModifiedEmbedding)"
   ],
   "metadata": {
    "collapsed": false,
    "pycharm": {
     "name": "#%%\n",
     "is_executing": false
    }
   }
  },
  {
   "cell_type": "code",
   "execution_count": 26,
   "outputs": [
    {
     "name": "stdout",
     "text": [
      "Euclidean distance from x to y:  4.69041575982343\n"
     ],
     "output_type": "stream"
    }
   ],
   "source": [
    "# Example points in 3-dimensional space...\n",
    "x = (5, 6, 7)\n",
    "y = (8, 9, 9)\n",
    "sum=0\n",
    "for f in range(len(x)):\n",
    "    sum+=((x[f]-y[f])**2)\n",
    "#distance = math.sqrt(sum([(a - b) ** 2 for a, b in zip(x, y)]))\n",
    "distance=math.sqrt(sum)\n",
    "print(\"Euclidean distance from x to y: \",distance)"
   ],
   "metadata": {
    "collapsed": false,
    "pycharm": {
     "name": "#%%\n",
     "is_executing": false
    }
   }
  },
  {
   "cell_type": "code",
   "execution_count": 16,
   "outputs": [
    {
     "data": {
      "text/plain": "   col1  col2\n0     1     3\n1     2     4",
      "text/html": "<div>\n<style scoped>\n    .dataframe tbody tr th:only-of-type {\n        vertical-align: middle;\n    }\n\n    .dataframe tbody tr th {\n        vertical-align: top;\n    }\n\n    .dataframe thead th {\n        text-align: right;\n    }\n</style>\n<table border=\"1\" class=\"dataframe\">\n  <thead>\n    <tr style=\"text-align: right;\">\n      <th></th>\n      <th>col1</th>\n      <th>col2</th>\n    </tr>\n  </thead>\n  <tbody>\n    <tr>\n      <th>0</th>\n      <td>1</td>\n      <td>3</td>\n    </tr>\n    <tr>\n      <th>1</th>\n      <td>2</td>\n      <td>4</td>\n    </tr>\n  </tbody>\n</table>\n</div>"
     },
     "metadata": {},
     "output_type": "execute_result",
     "execution_count": 16
    }
   ],
   "source": [
    "d = {'col1': [1, 2], 'col2': [3, 4]}\n",
    "df = pd.DataFrame(data=d)\n",
    "df"
   ],
   "metadata": {
    "collapsed": false,
    "pycharm": {
     "name": "#%%\n",
     "is_executing": false
    }
   }
  },
  {
   "cell_type": "code",
   "execution_count": 36,
   "outputs": [
    {
     "data": {
      "text/plain": "<Figure size 432x288 with 2 Axes>",
      "image/png": "[encoded data removed]"
     },
     "metadata": {},
     "output_type": "display_data"
    }
   ],
   "source": [
    "def plot_similarity(labels, features, rotation):\n",
    "  corr = np.inner(features, features)\n",
    "  sns.set(font_scale=1.2)\n",
    "  g = sns.heatmap(\n",
    "      corr,\n",
    "      xticklabels=labels,\n",
    "      yticklabels=labels,\n",
    "      vmin=0,\n",
    "      vmax=1,\n",
    "      cmap=\"YlOrRd\")\n",
    "  g.set_xticklabels(labels, rotation=rotation)\n",
    "  g.set_title(\"Semantic Textual Similarity\")\n",
    "  g.figure.savefig(\"output.png\")\n",
    "\n",
    "\n",
    "def run_and_plot(session_, input_tensor_, messages_, encoding_tensor):\n",
    "  message_embeddings_ = session_.run(\n",
    "      encoding_tensor, feed_dict={input_tensor_: messages_})\n",
    "  plot_similarity(messages_, message_embeddings_, 90)\n",
    "messages=List1+List2\n",
    "similarity_input_placeholder = tf.placeholder(tf.string, shape=(None))\n",
    "similarity_message_encodings = embed(similarity_input_placeholder)\n",
    "with tf.Session() as session:\n",
    "  session.run(tf.global_variables_initializer())\n",
    "  session.run(tf.tables_initializer())\n",
    "  run_and_plot(session, similarity_input_placeholder, messages,\n",
    "               similarity_message_encodings)\n",
    "  "
   ],
   "metadata": {
    "collapsed": false,
    "pycharm": {
     "name": "#%%\n",
     "is_executing": false
    }
   }
  }
 ],
 "metadata": {
  "language_info": {
   "codemirror_mode": {
    "name": "ipython",
    "version": 2
   },
   "file_extension": ".py",
   "mimetype": "text/x-python",
   "name": "python",
   "nbconvert_exporter": "python",
   "pygments_lexer": "ipython2",
   "version": "2.7.6"
  },
  "kernelspec": {
   "name": "python3",
   "language": "python",
   "display_name": "Python 3"
  },
  "pycharm": {
   "stem_cell": {
    "cell_type": "raw",
    "source": [],
    "metadata": {
     "collapsed": false
    }
   }
  }
 },
 "nbformat": 4,
 "nbformat_minor": 0
}